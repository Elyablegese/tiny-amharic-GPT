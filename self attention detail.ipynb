{
 "cells": [
  {
   "cell_type": "code",
   "execution_count": 47,
   "metadata": {},
   "outputs": [],
   "source": [
    "import torch\n",
    "import torch.nn as nn\n",
    "import torch.nn.functional as F\n",
    "import pprint"
   ]
  },
  {
   "cell_type": "code",
   "execution_count": 48,
   "metadata": {},
   "outputs": [
    {
     "name": "stdout",
     "output_type": "stream",
     "text": [
      "('First Citizen:\\n'\n",
      " 'Before we proceed any further, hear me speak.\\n'\n",
      " '\\n'\n",
      " 'All:\\n'\n",
      " 'Speak, speak.\\n'\n",
      " '\\n'\n",
      " 'First Citizen:\\n'\n",
      " 'You are all resolved rather to die than to famish?\\n'\n",
      " '\\n'\n",
      " 'All:\\n'\n",
      " 'Resolved. resolved.\\n'\n",
      " '\\n'\n",
      " 'First Citizen:\\n'\n",
      " 'First, you know Caius Marcius is chief enemy to the people.\\n'\n",
      " '\\n'\n",
      " 'All:\\n'\n",
      " \"We know't, we know't.\\n\"\n",
      " '\\n'\n",
      " 'First Citizen:\\n'\n",
      " \"Let us kill him, and we'll have corn at our own price.\\n\"\n",
      " \"Is't a verdict?\\n\"\n",
      " '\\n'\n",
      " 'All:\\n'\n",
      " \"No more talking on't; let it be done: away, away!\\n\"\n",
      " '\\n'\n",
      " 'Second Citizen:\\n'\n",
      " 'One word, good citizens.\\n'\n",
      " '\\n'\n",
      " 'First Citizen:\\n'\n",
      " 'We are accounted poor citizens, the patricians good.\\n'\n",
      " 'What authority surfeits on would relieve us: if they\\n'\n",
      " 'would yield us but the superfluity, while it were\\n'\n",
      " 'wholesome, we might guess they relieved us humanely;\\n'\n",
      " 'but they think we are too dear: the leanness that\\n'\n",
      " 'afflicts us, the object of our misery, is as an\\n'\n",
      " 'inventory to particularise their abundance; our\\n'\n",
      " 'sufferance is a gain to them Let us revenge this with\\n'\n",
      " 'our pikes, ere we become rakes: for the gods know I\\n'\n",
      " 'speak this in hunger for bread, not in thirst for revenge.\\n'\n",
      " '\\n')\n"
     ]
    }
   ],
   "source": [
    "with open(\"data/input.txt\",\"r\",encoding=\"utf-8\")as f:\n",
    "    text=f.read()\n",
    "len(text)\n",
    "pprint.pprint(text[:1000])"
   ]
  },
  {
   "cell_type": "code",
   "execution_count": 49,
   "metadata": {},
   "outputs": [
    {
     "name": "stdout",
     "output_type": "stream",
     "text": [
      "\n",
      " !$&',-.3:;?ABCDEFGHIJKLMNOPQRSTUVWXYZabcdefghijklmnopqrstuvwxyz\n"
     ]
    }
   ],
   "source": [
    "char=sorted(list(set(text)))\n",
    "vocab_size=len(char)\n",
    "print(\"\".join(char))"
   ]
  },
  {
   "cell_type": "code",
   "execution_count": 50,
   "metadata": {},
   "outputs": [],
   "source": [
    "#encoder and decoder\n",
    "stoi={s:i for i,s in enumerate(char)}\n",
    "itos={i:s for i,s in enumerate(char)}\n",
    "encode= lambda s: [stoi[c] for c in s]\n",
    "decode= lambda l: \"\".join([itos[i] for i in l])"
   ]
  },
  {
   "cell_type": "code",
   "execution_count": 51,
   "metadata": {},
   "outputs": [
    {
     "data": {
      "text/plain": [
       "1115394"
      ]
     },
     "execution_count": 51,
     "metadata": {},
     "output_type": "execute_result"
    }
   ],
   "source": [
    "#encode all the text\n",
    "data=torch.tensor(encode(text),dtype=torch.long)\n",
    "data[:1000]\n",
    "len(data)"
   ]
  },
  {
   "cell_type": "code",
   "execution_count": 52,
   "metadata": {},
   "outputs": [],
   "source": [
    "n=int(0.9*len(text))\n",
    "train_data=data[:n]\n",
    "val_data=data[n:]"
   ]
  },
  {
   "cell_type": "code",
   "execution_count": 53,
   "metadata": {},
   "outputs": [
    {
     "name": "stdout",
     "output_type": "stream",
     "text": [
      "input is  tensor([18]) target is  47\n",
      "input is  tensor([18, 47]) target is  56\n",
      "input is  tensor([18, 47, 56]) target is  57\n",
      "input is  tensor([18, 47, 56, 57]) target is  58\n",
      "input is  tensor([18, 47, 56, 57, 58]) target is  1\n",
      "input is  tensor([18, 47, 56, 57, 58,  1]) target is  15\n",
      "input is  tensor([18, 47, 56, 57, 58,  1, 15]) target is  47\n",
      "input is  tensor([18, 47, 56, 57, 58,  1, 15, 47]) target is  58\n",
      "tensor([18, 47, 56, 57, 58,  1, 15, 47])\n",
      "tensor([47, 56, 57, 58,  1, 15, 47, 58])\n"
     ]
    }
   ],
   "source": [
    "#viz of block of words\n",
    "block_size=8\n",
    "x=train_data[:block_size]\n",
    "y=train_data[1:block_size+1]\n",
    "for t in range(block_size):\n",
    "    context=x[:t+1]\n",
    "    target=y[t]\n",
    "    \n",
    "    print(f\"input is  {context} target is  {target}\")\n",
    "print(x)\n",
    "print(y)"
   ]
  },
  {
   "cell_type": "code",
   "execution_count": 54,
   "metadata": {},
   "outputs": [
    {
     "name": "stdout",
     "output_type": "stream",
     "text": [
      "input shape:  torch.Size([4, 8])\n",
      "input:  tensor([[24, 43, 58,  5, 57,  1, 46, 43],\n",
      "        [44, 53, 56,  1, 58, 46, 39, 58],\n",
      "        [52, 58,  1, 58, 46, 39, 58,  1],\n",
      "        [25, 17, 27, 10,  0, 21,  1, 54]])\n",
      "output shape:  torch.Size([4, 8])\n",
      "output:  tensor([[43, 58,  5, 57,  1, 46, 43, 39],\n",
      "        [53, 56,  1, 58, 46, 39, 58,  1],\n",
      "        [58,  1, 58, 46, 39, 58,  1, 46],\n",
      "        [17, 27, 10,  0, 21,  1, 54, 39]])\n",
      "--------------------------------------------------------------------\n",
      "input is  tensor([24]) target is  43\n",
      "input is  tensor([24, 43]) target is  58\n",
      "input is  tensor([24, 43, 58]) target is  5\n",
      "input is  tensor([24, 43, 58,  5]) target is  57\n",
      "input is  tensor([24, 43, 58,  5, 57]) target is  1\n",
      "input is  tensor([24, 43, 58,  5, 57,  1]) target is  46\n",
      "input is  tensor([24, 43, 58,  5, 57,  1, 46]) target is  43\n",
      "input is  tensor([24, 43, 58,  5, 57,  1, 46, 43]) target is  39\n",
      "input is  tensor([44]) target is  53\n",
      "input is  tensor([44, 53]) target is  56\n",
      "input is  tensor([44, 53, 56]) target is  1\n",
      "input is  tensor([44, 53, 56,  1]) target is  58\n",
      "input is  tensor([44, 53, 56,  1, 58]) target is  46\n",
      "input is  tensor([44, 53, 56,  1, 58, 46]) target is  39\n",
      "input is  tensor([44, 53, 56,  1, 58, 46, 39]) target is  58\n",
      "input is  tensor([44, 53, 56,  1, 58, 46, 39, 58]) target is  1\n",
      "input is  tensor([52]) target is  58\n",
      "input is  tensor([52, 58]) target is  1\n",
      "input is  tensor([52, 58,  1]) target is  58\n",
      "input is  tensor([52, 58,  1, 58]) target is  46\n",
      "input is  tensor([52, 58,  1, 58, 46]) target is  39\n",
      "input is  tensor([52, 58,  1, 58, 46, 39]) target is  58\n",
      "input is  tensor([52, 58,  1, 58, 46, 39, 58]) target is  1\n",
      "input is  tensor([52, 58,  1, 58, 46, 39, 58,  1]) target is  46\n",
      "input is  tensor([25]) target is  17\n",
      "input is  tensor([25, 17]) target is  27\n",
      "input is  tensor([25, 17, 27]) target is  10\n",
      "input is  tensor([25, 17, 27, 10]) target is  0\n",
      "input is  tensor([25, 17, 27, 10,  0]) target is  21\n",
      "input is  tensor([25, 17, 27, 10,  0, 21]) target is  1\n",
      "input is  tensor([25, 17, 27, 10,  0, 21,  1]) target is  54\n",
      "input is  tensor([25, 17, 27, 10,  0, 21,  1, 54]) target is  39\n"
     ]
    }
   ],
   "source": [
    "# we added random batchs\n",
    "torch.manual_seed(1337)\n",
    "batch_size=4\n",
    "block_size=8\n",
    "\n",
    "# generate batch of data of x and y\n",
    "def get_batch(split):\n",
    "    data =train_data if split == \"train\" else val_data\n",
    "    ix=torch.randint(len(data)-block_size,(batch_size,)) \n",
    "    x=torch.stack([data[i:i+block_size] for i in ix])\n",
    "    y=torch.stack([data[i+1:i+block_size+1] for i in ix])\n",
    "    return x,y\n",
    "\n",
    "xb,yb=get_batch(\"train\")\n",
    "print(\"input shape: \" ,xb.shape)\n",
    "print(\"input: \" ,xb)\n",
    "print(\"output shape: \",yb.shape)\n",
    "print(\"output: \",yb)\n",
    "\n",
    "print(\"--------------------------------------------------------------------\")\n",
    "\n",
    "for b in range(batch_size):\n",
    "    for t in range(block_size):  \n",
    "        context=xb[b,:t+1]\n",
    "        target=yb[b,t]\n",
    "        print(f\"input is  {context} target is  {target}\")"
   ]
  },
  {
   "cell_type": "markdown",
   "metadata": {},
   "source": [
    "then feed it to NNs"
   ]
  },
  {
   "cell_type": "code",
   "execution_count": 55,
   "metadata": {},
   "outputs": [
    {
     "data": {
      "text/plain": [
       "{'train': tensor(4.6346), 'val': tensor(4.6015)}"
      ]
     },
     "execution_count": 55,
     "metadata": {},
     "output_type": "execute_result"
    }
   ],
   "source": [
    "def estimate_loss():\n",
    "    out = {}\n",
    "    m.eval()\n",
    "    for split in ['train', 'val']:\n",
    "        losses = torch.zeros(200)\n",
    "        for k in range(200):\n",
    "            X, Y = get_batch(split)\n",
    "            logits, loss = m(X, Y)\n",
    "            losses[k] = loss.item()\n",
    "        out[split] = losses.mean()\n",
    "    m.train()\n",
    "    return out\n",
    "estimate_loss()"
   ]
  },
  {
   "cell_type": "code",
   "execution_count": 56,
   "metadata": {},
   "outputs": [
    {
     "name": "stdout",
     "output_type": "stream",
     "text": [
      "torch.Size([32, 65]) tensor(4.8786, grad_fn=<NllLossBackward0>)\n",
      "\n",
      "Sr?qP-QWktXoL&jLDJgOLVz'RIoDqHdhsV&vLLxatjscMpwLERSPyao.qfzs$Ys$zF-w,;eEkzxjgCKFChs!iWW.ObzDnxA Ms$3\n"
     ]
    }
   ],
   "source": [
    "torch.manual_seed(1337)\n",
    "class BigramLanguageModel(nn.Module):\n",
    "\n",
    "    def __init__(self,vocab_size):\n",
    "        super().__init__()\n",
    "        self.token_embed_tabel=nn.Embedding(vocab_size,vocab_size)\n",
    "    \n",
    "    def forward(self,idx,targets=None):#id and and target are integer tensor\n",
    "        logits=self.token_embed_tabel(idx)  # B,T,C  ->  (batch,time(block),channels(vocab))\n",
    "        \n",
    "        if targets is None:\n",
    "            loss=None\n",
    "        else:\n",
    "            #pytorch arrange it differnt way and the dimension\n",
    "            B,T,C=logits.shape\n",
    "            logits=logits.view(B*T,C)\n",
    "            targets=targets.view(B*T)\n",
    "            loss=F.cross_entropy(logits,targets)\n",
    "        \n",
    "        return logits,loss\n",
    "\n",
    "    def generate(self,idx,max_new_tokens):\n",
    "        for _ in range(max_new_tokens):\n",
    "            logits,loss=self(idx)   #get the prediction         \n",
    "            logits=logits[:,-1,:]   # focus only in the last time stamp -> becomes( B*C )\n",
    "            probs=F.softmax(logits,dim=-1) #get prob\n",
    "            idx_next=torch.multinomial(probs,num_samples=1)\n",
    "            idx=torch.cat((idx,idx_next), dim=1)\n",
    "            #print(idx)\n",
    "        return idx\n",
    "        \n",
    "m=BigramLanguageModel(vocab_size)\n",
    "\n",
    "# the target is assigned\n",
    "logits,loss=m(xb,yb)\n",
    "print(logits.shape,loss)     #we are expecting -ln(1/65) loss\n",
    "\n",
    "\n",
    "generated=m.generate(idx = torch.zeros((1, 1), dtype=torch.long),max_new_tokens=100)[0].tolist()\n",
    "print(decode(generated))"
   ]
  },
  {
   "cell_type": "code",
   "execution_count": 57,
   "metadata": {},
   "outputs": [
    {
     "name": "stdout",
     "output_type": "stream",
     "text": [
      "4.587916374206543\n"
     ]
    }
   ],
   "source": [
    "#train the model\n",
    "batch_size=32\n",
    "optimizer=torch.optim.AdamW(m.parameters(),lr=1e-3)\n",
    "\n",
    "for steps in range(100):\n",
    "    xb,yb=get_batch(\"train\")\n",
    "\n",
    "    logits,loss=m(xb,yb)\n",
    "    optimizer.zero_grad(set_to_none=True)\n",
    "    loss.backward()\n",
    "    optimizer.step()\n",
    "print(loss.item())"
   ]
  },
  {
   "cell_type": "markdown",
   "metadata": {},
   "source": [
    "relatable result"
   ]
  },
  {
   "cell_type": "code",
   "execution_count": 58,
   "metadata": {},
   "outputs": [
    {
     "name": "stdout",
     "output_type": "stream",
     "text": [
      "\n",
      "xiKi-RJ:CgqVuUa!U?qMH.uk!sCuMXvv!CJFfx;LgRyJknOEti.?I&-gPlLyulId?XlaInQ'q,lT$\n",
      "3Q&sGlvHQ?mqSq-eON\n",
      "x?SP fUAfCAuCX:bOlgiRQWN:Mphaw\n",
      "tRLKuYXEaAXxrcq-gCUzeh3w!AcyaylgYWjmJM?Uzw:inaY,:C&OECW:vmGGJAn3onAuMgia!ms$Vb q-gCOcPcUhOnxJGUGSPJWT:.?ujmJFoiNL&A'DxY,prZ?qdT;hoo'dHooXXlxf'WkHK&u3Q?rqUi.kz;?Yx?C&u3Qbfzxlyh'Vl:zyxjKXgC?\n",
      "lv'QKFiBeviNxO'm!Upm$srm&TqViqiBD3HBP!juEOpmZJyF$Fwfy!PlvWPFC\n",
      "&WDdP!Ko,px\n",
      "x\n",
      "tREOE;A\n"
     ]
    }
   ],
   "source": [
    "#preview the result\n",
    "generated=m.generate(idx = torch.zeros((1, 1), dtype=torch.long),max_new_tokens=400)[0].tolist()\n",
    "print(decode(generated))"
   ]
  },
  {
   "cell_type": "markdown",
   "metadata": {},
   "source": [
    "### self attention"
   ]
  },
  {
   "cell_type": "code",
   "execution_count": 59,
   "metadata": {},
   "outputs": [
    {
     "name": "stdout",
     "output_type": "stream",
     "text": [
      "a=\n",
      "tensor([[1.0000, 0.0000, 0.0000],\n",
      "        [0.5000, 0.5000, 0.0000],\n",
      "        [0.3333, 0.3333, 0.3333]])\n",
      "--\n",
      "b=\n",
      "tensor([[2., 7.],\n",
      "        [6., 4.],\n",
      "        [6., 5.]])\n",
      "--\n",
      "c=\n",
      "tensor([[2.0000, 7.0000],\n",
      "        [4.0000, 5.5000],\n",
      "        [4.6667, 5.3333]])\n"
     ]
    }
   ],
   "source": [
    "# how matrix multiplication can be used for a \"weighted aggregation\"\n",
    "torch.manual_seed(42)\n",
    "a = torch.tril(torch.ones(3, 3))\n",
    "a = a / torch.sum(a, 1, keepdim=True)\n",
    "b = torch.randint(0,10,(3,2)).float()\n",
    "c = a @ b\n",
    "print('a=')\n",
    "print(a)\n",
    "print('--')\n",
    "print('b=')\n",
    "print(b)\n",
    "print('--')\n",
    "print('c=')\n",
    "print(c)"
   ]
  },
  {
   "cell_type": "code",
   "execution_count": 103,
   "metadata": {},
   "outputs": [
    {
     "data": {
      "text/plain": [
       "torch.Size([4, 8, 2])"
      ]
     },
     "execution_count": 103,
     "metadata": {},
     "output_type": "execute_result"
    }
   ],
   "source": [
    "torch.manual_seed(1337)\n",
    "B,T,C=4,8,2\n",
    "x=torch.randn(B,T,C)\n",
    "x.shape"
   ]
  },
  {
   "cell_type": "code",
   "execution_count": 104,
   "metadata": {},
   "outputs": [],
   "source": [
    "# version1 average of each previous token\n",
    "# for loop is not efficient\n",
    "xbow=torch.zeros((B,T,C))\n",
    "for b in range(B):\n",
    "    for t in range(T):\n",
    "        xprev=x[b,:t+1] #(t,C)\n",
    "        xbow[b,t]=torch.mean(xprev, 0)"
   ]
  },
  {
   "cell_type": "code",
   "execution_count": 105,
   "metadata": {},
   "outputs": [
    {
     "data": {
      "text/plain": [
       "True"
      ]
     },
     "execution_count": 105,
     "metadata": {},
     "output_type": "execute_result"
    }
   ],
   "source": [
    "#version2 matrix multiplication\n",
    "# we can do average easily\n",
    "\n",
    "wei= torch.tril(torch.ones(T,T)) # diagonal triangle half zero\n",
    "wei= wei / wei.sum(1,keepdim=True) #normalize it\n",
    "xbow2= wei @ x\n",
    "\n",
    "# torch.allclose(xbow,xbow2)\n",
    "'''\n",
    "The difference arises from floating-point precision. \n",
    "The division operation in creating wei and the subsequent \n",
    "matrix multiplication can introduce small floating-point errors.\n",
    "'''\n",
    "torch.allclose(xbow, xbow2, atol=1e-6, rtol=1e-5)\n"
   ]
  },
  {
   "cell_type": "code",
   "execution_count": 107,
   "metadata": {},
   "outputs": [
    {
     "data": {
      "text/plain": [
       "tensor([[0., -inf, -inf, -inf, -inf, -inf, -inf, -inf],\n",
       "        [0., 0., -inf, -inf, -inf, -inf, -inf, -inf],\n",
       "        [0., 0., 0., -inf, -inf, -inf, -inf, -inf],\n",
       "        [0., 0., 0., 0., -inf, -inf, -inf, -inf],\n",
       "        [0., 0., 0., 0., 0., -inf, -inf, -inf],\n",
       "        [0., 0., 0., 0., 0., 0., -inf, -inf],\n",
       "        [0., 0., 0., 0., 0., 0., 0., -inf],\n",
       "        [0., 0., 0., 0., 0., 0., 0., 0.]])"
      ]
     },
     "execution_count": 107,
     "metadata": {},
     "output_type": "execute_result"
    }
   ],
   "source": [
    "#version 3\n",
    "#we use this version more inthe transformer\n",
    "tril=torch.tril(torch.ones(T,T))\n",
    "wei=torch.zeros((T,T))\n",
    "wei=wei.masked_fill(tril[:T,:T]==0,float('-inf'))\n",
    "# wei=F.softmax(wei,dim=-1)\n",
    "xbow3=wei @ x\n",
    "\n",
    "torch.allclose(xbow, xbow3, atol=1e-6, rtol=1e-5)\n",
    "\n",
    "wei\n",
    "\n"
   ]
  },
  {
   "attachments": {
    "image.png": {
     "image/png": "[encoded data removed]"
    }
   },
   "cell_type": "markdown",
   "metadata": {},
   "source": [
    "![data/image.png](attachment:image.png)"
   ]
  },
  {
   "cell_type": "code",
   "execution_count": 100,
   "metadata": {},
   "outputs": [
    {
     "data": {
      "text/plain": [
       "tensor([[1.0000, 0.0000, 0.0000, 0.0000, 0.0000, 0.0000, 0.0000, 0.0000],\n",
       "        [0.1574, 0.8426, 0.0000, 0.0000, 0.0000, 0.0000, 0.0000, 0.0000],\n",
       "        [0.2088, 0.1646, 0.6266, 0.0000, 0.0000, 0.0000, 0.0000, 0.0000],\n",
       "        [0.5792, 0.1187, 0.1889, 0.1131, 0.0000, 0.0000, 0.0000, 0.0000],\n",
       "        [0.0294, 0.1052, 0.0469, 0.0276, 0.7909, 0.0000, 0.0000, 0.0000],\n",
       "        [0.0176, 0.2689, 0.0215, 0.0089, 0.6812, 0.0019, 0.0000, 0.0000],\n",
       "        [0.1691, 0.4066, 0.0438, 0.0416, 0.1048, 0.2012, 0.0329, 0.0000],\n",
       "        [0.0210, 0.0843, 0.0555, 0.2297, 0.0573, 0.0709, 0.2423, 0.2391]],\n",
       "       grad_fn=<SelectBackward0>)"
      ]
     },
     "execution_count": 100,
     "metadata": {},
     "output_type": "execute_result"
    }
   ],
   "source": [
    "#version 4\n",
    "torch.manual_seed(1337)\n",
    "B,T,C=4,8,32\n",
    "x=torch.randn(B,T,C)\n",
    "\n",
    "#single head self attention\n",
    "\n",
    "head_size=16\n",
    "key=nn.Linear(C,head_size,bias=False)\n",
    "query=nn.Linear(C,head_size,bias=False)\n",
    "value=nn.Linear(C,head_size,bias=False)\n",
    "k=key(x)\n",
    "q=query(x)\n",
    "v=value(x)\n",
    "''' \n",
    "the inner dimensions must match. For two matrices A and B to be multiplied, \n",
    "the number of columns in A must equal the number of rows in B.\n",
    "'''\n",
    "wei=q@k.transpose(-2,-1) # (B, T, 16) @ (B, 16, T) ---> (B, T, T)\n",
    "\n",
    "tril=torch.tril(torch.ones(T,T))\n",
    "# wei=torch.zeros((T,T))\n",
    "''' \n",
    "we dont want this to be uniform(must be data dependent)\n",
    "so we each token have two vectors query and key \n",
    "'''\n",
    "wei=wei.masked_fill(tril==0,float('-inf')) # wei masked fill of tril 0 to -inf\n",
    "wei=F.softmax(wei,dim=-1) #normilize each row \n",
    "out=wei @ v\n",
    "out.shape\n",
    "wei[0]\n"
   ]
  },
  {
   "cell_type": "markdown",
   "metadata": {},
   "source": [
    "Notes:\n",
    "- Attention is a **communication mechanism**. Can be seen as nodes in a directed graph looking at each other and aggregating information with a weighted sum from all nodes that point to them, with data-dependent weights.\n",
    "- There is no notion of space. Attention simply acts over a set of vectors. This is why we need to positionally encode tokens.\n",
    "- Each example across batch dimension is of course processed completely independently and never \"talk\" to each other\n",
    "- In an \"encoder\" attention block just delete the single line that does masking with `tril`, allowing all tokens to communicate. This block here is called a \"decoder\" attention block because it has triangular masking, and is usually used in autoregressive settings, like language modeling.\n",
    "- \"self-attention\" just means that the keys and values are produced from the same source as queries. In \"cross-attention\", the queries still get produced from x, but the keys and values come from some other, external source (e.g. an encoder module)\n",
    "- \"Scaled\" attention additional divides `wei` by 1/sqrt(head_size). This makes it so when input Q,K are unit variance, wei will be unit variance too and Softmax will stay diffuse and not saturate too much. Illustration below"
   ]
  }
 ],
 "metadata": {
  "kernelspec": {
   "display_name": ".venv",
   "language": "python",
   "name": "python3"
  },
  "language_info": {
   "codemirror_mode": {
    "name": "ipython",
    "version": 3
   },
   "file_extension": ".py",
   "mimetype": "text/x-python",
   "name": "python",
   "nbconvert_exporter": "python",
   "pygments_lexer": "ipython3",
   "version": "3.12.3"
  }
 },
 "nbformat": 4,
 "nbformat_minor": 2
}
